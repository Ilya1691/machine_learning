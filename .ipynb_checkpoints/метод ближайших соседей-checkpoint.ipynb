{
 "cells": [
  {
   "cell_type": "markdown",
   "metadata": {},
   "source": [
    "Сначала скачаем, засунем в dataframe данные"
   ]
  },
  {
   "cell_type": "code",
   "execution_count": null,
   "metadata": {
    "collapsed": true,
    "nbpresent": {
     "id": "b1137e15-6c87-4582-86de-9497b824b0c2"
    }
   },
   "outputs": [],
   "source": [
    "import pandas as pd\n",
    "url = r'C:\\Projects\\Neo4j\\data\\System_unit.cvs'\n",
    "df = pd.read_csv(url, header=None)\n",
    "df.columns = [u'value',\n",
    "              u'core_number',\n",
    "              u'frequency',\n",
    "              u'value_video',\n",
    "              u'shina',\n",
    "              u'volume_hdd',\n",
    "             'Class']"
   ]
  },
  {
   "cell_type": "code",
   "execution_count": 53,
   "metadata": {},
   "outputs": [
    {
     "data": {
      "text/plain": [
       "(12500, 7)"
      ]
     },
     "execution_count": 53,
     "metadata": {},
     "output_type": "execute_result"
    }
   ],
   "source": [
    "df.shape"
   ]
  },
  {
   "cell_type": "code",
   "execution_count": 54,
   "metadata": {},
   "outputs": [
    {
     "data": {
      "text/plain": [
       "<bound method NDFrame.head of        value  core_number  frequency  value_video  shina  volume_hdd  Class\n",
       "0          4            8        3.2          4.0    128         120    AMD\n",
       "1          4            8        3.2          4.0    128         128    AMD\n",
       "2          4            8        3.2          4.0    128         240    AMD\n",
       "3          4            8        3.2          4.0    128         120    AMD\n",
       "4          4            8        3.2          4.0    128          60    AMD\n",
       "5          4            8        3.2          4.0    128         120    AMD\n",
       "6          4            8        3.2          4.0    128         240    AMD\n",
       "7          4            8        3.2          4.0    128         120    AMD\n",
       "8          4            8        3.2          4.0    128         120    AMD\n",
       "9          4            8        3.2          4.0    128         128    AMD\n",
       "10         4            8        3.2          4.0    128         256    AMD\n",
       "11         4            8        3.2          4.0    128         120    AMD\n",
       "12         4            8        3.2          4.0    128         240    AMD\n",
       "13         4            8        3.2          4.0    128         120    AMD\n",
       "14         4            8        3.2          4.0    128         256    AMD\n",
       "15         4            8        3.2          4.0    128         240    AMD\n",
       "16         4            8        3.2          4.0    128         120    AMD\n",
       "17         4            8        3.2          4.0    128         128    AMD\n",
       "18         4            8        3.2          4.0    128         120    AMD\n",
       "19         4            8        3.2          4.0    128         120    AMD\n",
       "20         4            8        3.2          4.0    128         256    AMD\n",
       "21         4            8        3.2          4.0    128         250    AMD\n",
       "22         4            8        3.2          4.0    128         240    AMD\n",
       "23         4            8        3.2          4.0    128         120    AMD\n",
       "24         4            8        3.2          4.0    128         240    AMD\n",
       "25         4            8        3.2          2.0    128         120    AMD\n",
       "26         4            8        3.2          2.0    128         128    AMD\n",
       "27         4            8        3.2          2.0    128         240    AMD\n",
       "28         4            8        3.2          2.0    128         120    AMD\n",
       "29         4            8        3.2          2.0    128          60    AMD\n",
       "...      ...          ...        ...          ...    ...         ...    ...\n",
       "12470     16            4        3.0          1.0     64         256  Intel\n",
       "12471     16            4        3.0          1.0     64         250  Intel\n",
       "12472     16            4        3.0          1.0     64         240  Intel\n",
       "12473     16            4        3.0          1.0     64         120  Intel\n",
       "12474     16            4        3.0          1.0     64         240  Intel\n",
       "12475     16            4        3.0          2.0    128         120  Intel\n",
       "12476     16            4        3.0          2.0    128         128  Intel\n",
       "12477     16            4        3.0          2.0    128         240  Intel\n",
       "12478     16            4        3.0          2.0    128         120  Intel\n",
       "12479     16            4        3.0          2.0    128          60  Intel\n",
       "12480     16            4        3.0          2.0    128         120  Intel\n",
       "12481     16            4        3.0          2.0    128         240  Intel\n",
       "12482     16            4        3.0          2.0    128         120  Intel\n",
       "12483     16            4        3.0          2.0    128         120  Intel\n",
       "12484     16            4        3.0          2.0    128         128  Intel\n",
       "12485     16            4        3.0          2.0    128         256  Intel\n",
       "12486     16            4        3.0          2.0    128         120  Intel\n",
       "12487     16            4        3.0          2.0    128         240  Intel\n",
       "12488     16            4        3.0          2.0    128         120  Intel\n",
       "12489     16            4        3.0          2.0    128         256  Intel\n",
       "12490     16            4        3.0          2.0    128         240  Intel\n",
       "12491     16            4        3.0          2.0    128         120  Intel\n",
       "12492     16            4        3.0          2.0    128         128  Intel\n",
       "12493     16            4        3.0          2.0    128         120  Intel\n",
       "12494     16            4        3.0          2.0    128         120  Intel\n",
       "12495     16            4        3.0          2.0    128         256  Intel\n",
       "12496     16            4        3.0          2.0    128         250  Intel\n",
       "12497     16            4        3.0          2.0    128         240  Intel\n",
       "12498     16            4        3.0          2.0    128         120  Intel\n",
       "12499     16            4        3.0          2.0    128         240  Intel\n",
       "\n",
       "[12500 rows x 7 columns]>"
      ]
     },
     "execution_count": 54,
     "metadata": {},
     "output_type": "execute_result"
    }
   ],
   "source": [
    "df.head"
   ]
  },
  {
   "cell_type": "code",
   "execution_count": 61,
   "metadata": {},
   "outputs": [
    {
     "data": {
      "text/html": [
       "<div>\n",
       "<table border=\"1\" class=\"dataframe\">\n",
       "  <thead>\n",
       "    <tr style=\"text-align: right;\">\n",
       "      <th></th>\n",
       "      <th>value</th>\n",
       "      <th>core_number</th>\n",
       "      <th>frequency</th>\n",
       "      <th>value_video</th>\n",
       "      <th>shina</th>\n",
       "      <th>volume_hdd</th>\n",
       "    </tr>\n",
       "  </thead>\n",
       "  <tbody>\n",
       "    <tr>\n",
       "      <th>count</th>\n",
       "      <td>12500.00000</td>\n",
       "      <td>12500.000000</td>\n",
       "      <td>12500.000000</td>\n",
       "      <td>12500.00000</td>\n",
       "      <td>12500.000000</td>\n",
       "      <td>12500.000000</td>\n",
       "    </tr>\n",
       "    <tr>\n",
       "      <th>mean</th>\n",
       "      <td>10.00000</td>\n",
       "      <td>4.300000</td>\n",
       "      <td>3.460000</td>\n",
       "      <td>3.50000</td>\n",
       "      <td>147.200000</td>\n",
       "      <td>168.880000</td>\n",
       "    </tr>\n",
       "    <tr>\n",
       "      <th>std</th>\n",
       "      <td>6.00024</td>\n",
       "      <td>2.304436</td>\n",
       "      <td>0.410382</td>\n",
       "      <td>1.86555</td>\n",
       "      <td>66.513412</td>\n",
       "      <td>64.142613</td>\n",
       "    </tr>\n",
       "    <tr>\n",
       "      <th>min</th>\n",
       "      <td>4.00000</td>\n",
       "      <td>2.000000</td>\n",
       "      <td>2.700000</td>\n",
       "      <td>0.50000</td>\n",
       "      <td>32.000000</td>\n",
       "      <td>60.000000</td>\n",
       "    </tr>\n",
       "    <tr>\n",
       "      <th>25%</th>\n",
       "      <td>4.00000</td>\n",
       "      <td>2.000000</td>\n",
       "      <td>3.275000</td>\n",
       "      <td>2.00000</td>\n",
       "      <td>128.000000</td>\n",
       "      <td>120.000000</td>\n",
       "    </tr>\n",
       "    <tr>\n",
       "      <th>50%</th>\n",
       "      <td>10.00000</td>\n",
       "      <td>4.000000</td>\n",
       "      <td>3.500000</td>\n",
       "      <td>4.00000</td>\n",
       "      <td>128.000000</td>\n",
       "      <td>128.000000</td>\n",
       "    </tr>\n",
       "    <tr>\n",
       "      <th>75%</th>\n",
       "      <td>16.00000</td>\n",
       "      <td>6.000000</td>\n",
       "      <td>3.725000</td>\n",
       "      <td>4.00000</td>\n",
       "      <td>192.000000</td>\n",
       "      <td>240.000000</td>\n",
       "    </tr>\n",
       "    <tr>\n",
       "      <th>max</th>\n",
       "      <td>16.00000</td>\n",
       "      <td>8.000000</td>\n",
       "      <td>4.200000</td>\n",
       "      <td>8.00000</td>\n",
       "      <td>256.000000</td>\n",
       "      <td>256.000000</td>\n",
       "    </tr>\n",
       "  </tbody>\n",
       "</table>\n",
       "</div>"
      ],
      "text/plain": [
       "             value   core_number     frequency  value_video         shina  \\\n",
       "count  12500.00000  12500.000000  12500.000000  12500.00000  12500.000000   \n",
       "mean      10.00000      4.300000      3.460000      3.50000    147.200000   \n",
       "std        6.00024      2.304436      0.410382      1.86555     66.513412   \n",
       "min        4.00000      2.000000      2.700000      0.50000     32.000000   \n",
       "25%        4.00000      2.000000      3.275000      2.00000    128.000000   \n",
       "50%       10.00000      4.000000      3.500000      4.00000    128.000000   \n",
       "75%       16.00000      6.000000      3.725000      4.00000    192.000000   \n",
       "max       16.00000      8.000000      4.200000      8.00000    256.000000   \n",
       "\n",
       "         volume_hdd  \n",
       "count  12500.000000  \n",
       "mean     168.880000  \n",
       "std       64.142613  \n",
       "min       60.000000  \n",
       "25%      120.000000  \n",
       "50%      128.000000  \n",
       "75%      240.000000  \n",
       "max      256.000000  "
      ]
     },
     "execution_count": 61,
     "metadata": {},
     "output_type": "execute_result"
    }
   ],
   "source": [
    "df.describe()"
   ]
  },
  {
   "cell_type": "code",
   "execution_count": 60,
   "metadata": {},
   "outputs": [
    {
     "data": {
      "image/png": "[encoded data removed]",
      "text/plain": [
       "<matplotlib.figure.Figure at 0x2b128f6d080>"
      ]
     },
     "metadata": {},
     "output_type": "display_data"
    }
   ],
   "source": [
    "import matplotlib.pyplot as plt\n",
    "from pandas.tools.plotting import scatter_matrix\n",
    "scatter_matrix(df, alpha=0.05, diagonal='kde');\n",
    "plt.suptitle('scatter-matrix')\n",
    "\n",
    "plt.show()"
   ]
  },
  {
   "cell_type": "markdown",
   "metadata": {},
   "source": [
    "Делим данные на две части: тренирововчную и тестовую с прапорцией 20/80"
   ]
  },
  {
   "cell_type": "code",
   "execution_count": 46,
   "metadata": {
    "collapsed": true,
    "nbpresent": {
     "id": "a2301a6d-fc91-4705-8737-029fb9d71e6a"
    }
   },
   "outputs": [],
   "source": [
    "import numpy as np\n",
    "def test_and_train(df, proportion):\n",
    "    mask = np.random.rand(len(df)) < proportion\n",
    "    return df[mask], df[~mask]\n",
    "train, test = test_and_train(df, 0.2)"
   ]
  },
  {
   "cell_type": "markdown",
   "metadata": {},
   "source": [
    "Теперь нужно каким-то образом научиться определять ближайших соседей. Для этого используется Евклидово расстояние."
   ]
  },
  {
   "cell_type": "code",
   "execution_count": 47,
   "metadata": {
    "collapsed": true,
    "nbpresent": {
     "id": "210feafa-b239-4f59-b649-177b35ca5c1d"
    }
   },
   "outputs": [],
   "source": [
    "from math import sqrt\n",
    "def euclidean_distance(instance1,instance2):\n",
    "    squares = [(i-j)**2 for i,j in zip(instance1,instance2)]\n",
    "    return sqrt(sum(squares))"
   ]
  },
  {
   "cell_type": "markdown",
   "metadata": {},
   "source": [
    "Считаем дистанцию до всех записей в тренировочном сете, сортирует их по возрастанию и возвращает k ближайших соседей"
   ]
  },
  {
   "cell_type": "code",
   "execution_count": 48,
   "metadata": {
    "collapsed": true
   },
   "outputs": [],
   "source": [
    "import operator\n",
    "def get_neighbours(instance, train,k):\n",
    "    distances = []\n",
    "    for i in train.ix[:,:-1].values:\n",
    "        distances.append(euclidean_distance(instance,i))\n",
    "    distances = tuple(zip(distances, train[u'Class'].values))\n",
    "    return sorted(distances,key=operator.itemgetter(0))[:k]"
   ]
  },
  {
   "cell_type": "markdown",
   "metadata": {},
   "source": [
    "Получаем класс, набравший больше всего голосов."
   ]
  },
  {
   "cell_type": "code",
   "execution_count": 49,
   "metadata": {
    "collapsed": true,
    "nbpresent": {
     "id": "36e98df0-d1ab-415c-8d80-981accb50a69"
    }
   },
   "outputs": [],
   "source": [
    "from collections import Counter\n",
    "def get_response(neigbours):\n",
    "    return Counter(neigbours).most_common()[0][0][1]"
   ]
  },
  {
   "cell_type": "markdown",
   "metadata": {},
   "source": [
    "На выходе получаем лист предсказанных классов."
   ]
  },
  {
   "cell_type": "code",
   "execution_count": 43,
   "metadata": {
    "collapsed": true,
    "nbpresent": {
     "id": "04c5ebac-ccf7-4556-a5a1-f63ab7c1e87c"
    }
   },
   "outputs": [],
   "source": [
    "def get_predictions(train, test, k):\n",
    "    predictions = []\n",
    "    for i in test.ix[:,:-1].values:\n",
    "        neigbours = get_neighbours(i,train,k)\n",
    "        response = get_response(neigbours)\n",
    "        predictions.append(response)\n",
    "    return predictions"
   ]
  },
  {
   "cell_type": "markdown",
   "metadata": {},
   "source": [
    "Имея предсказания, можно измерить точность модели. Для этого сравним предсказанные результаты с настоящими."
   ]
  },
  {
   "cell_type": "code",
   "execution_count": 50,
   "metadata": {
    "nbpresent": {
     "id": "dca28820-6509-4905-a09c-c49c208aa9d9"
    }
   },
   "outputs": [
    {
     "data": {
      "text/plain": [
       "0.999297964095878"
      ]
     },
     "execution_count": 50,
     "metadata": {},
     "output_type": "execute_result"
    }
   ],
   "source": [
    "from __future__ import division\n",
    "def mean(instance):\n",
    "    return sum(instance)/len(instance)\n",
    "def get_accuracy(test,predictions):\n",
    "    return mean([i == j for i,j in zip(test[u'Class'].values, predictions)])\n",
    "get_accuracy(test,get_predictions(train, test, 5))"
   ]
  },
  {
   "cell_type": "code",
   "execution_count": 52,
   "metadata": {
    "nbpresent": {
     "id": "e768f97c-deb6-4211-a049-3712ecb88a2e"
    }
   },
   "outputs": [
    {
     "name": "stdout",
     "output_type": "stream",
     "text": [
      "Neighbors: 1, Accuracy: 1.000000\n",
      "Neighbors: 3, Accuracy: 1.000000\n",
      "Neighbors: 5, Accuracy: 1.000000\n",
      "Neighbors: 7, Accuracy: 1.000000\n",
      "Neighbors: 9, Accuracy: 1.000000\n",
      "Neighbors: 11, Accuracy: 0.996490\n",
      "Neighbors: 13, Accuracy: 0.992077\n",
      "Neighbors: 15, Accuracy: 0.992077\n",
      "Neighbors: 17, Accuracy: 0.988968\n",
      "Neighbors: 19, Accuracy: 0.988968\n",
      "Neighbors: 21, Accuracy: 0.997693\n",
      "Neighbors: 23, Accuracy: 0.995086\n",
      "Neighbors: 25, Accuracy: 0.995086\n",
      "Neighbors: 27, Accuracy: 0.995086\n",
      "Neighbors: 29, Accuracy: 0.987464\n",
      "Neighbors: 31, Accuracy: 0.991375\n",
      "Neighbors: 33, Accuracy: 0.992378\n",
      "Neighbors: 35, Accuracy: 0.992378\n",
      "Neighbors: 37, Accuracy: 0.992378\n",
      "Neighbors: 39, Accuracy: 0.992378\n",
      "Neighbors: 41, Accuracy: 1.000000\n",
      "Neighbors: 43, Accuracy: 1.000000\n",
      "Neighbors: 45, Accuracy: 0.992177\n",
      "Neighbors: 47, Accuracy: 0.988266\n",
      "Neighbors: 49, Accuracy: 0.988266\n"
     ]
    },
    {
     "data": {
      "image/png": "[encoded data removed]",
      "text/plain": [
       "<matplotlib.figure.Figure at 0x2b123ca62e8>"
      ]
     },
     "metadata": {},
     "output_type": "display_data"
    }
   ],
   "source": [
    "import pylab as pl\n",
    "from sklearn.neighbors import KNeighborsClassifier\n",
    "variables = [u'value',u'core_number',\n",
    "              u'frequency',u'value_video',\n",
    "              u'shina',u'volume_hdd']\n",
    "results = []\n",
    "for n in range(1,51,2):\n",
    "    clf = KNeighborsClassifier(n_neighbors=n)\n",
    "    clf.fit(train[variables], train[u'Class'])\n",
    "    preds = clf.predict(test[variables])\n",
    "    accuracy = np.where(preds==test[u'Class'], 1, 0).sum() / float(len(test))\n",
    "    print (\"Neighbors: %d, Accuracy: %3f\" % (n, accuracy))\n",
    "    results.append([n, accuracy])\n",
    "results = pd.DataFrame(results, columns=[\"n\", \"accuracy\"])\n",
    "pl.plot(results.n, results.accuracy)\n",
    "pl.title(\"Accuracy with Increasing K\")\n",
    "pl.show()"
   ]
  },
  {
   "cell_type": "markdown",
   "metadata": {},
   "source": [
    "выделить максимальное значения для предсказания, код оптимизации, жадные алгоритмы которые не пригодны, алгоритм оптимизации, фильтрация данных(то что не пригодно), генерация с помощью эволюционных алгоритмов, самообучения по эволюционным функциям, по каким критериям будем оценивать нашу конфигурацию, генетический код"
   ]
  }
 ],
 "metadata": {
  "anaconda-cloud": {},
  "kernelspec": {
   "display_name": "Python [conda root]",
   "language": "python",
   "name": "conda-root-py"
  },
  "language_info": {
   "codemirror_mode": {
    "name": "ipython",
    "version": 3
   },
   "file_extension": ".py",
   "mimetype": "text/x-python",
   "name": "python",
   "nbconvert_exporter": "python",
   "pygments_lexer": "ipython3",
   "version": "3.5.2"
  },
  "nbpresent": {
   "slides": {},
   "themes": {
    "default": "24d968cb-abda-4011-8081-c2e73028221e",
    "theme": {
     "24d968cb-abda-4011-8081-c2e73028221e": {
      "id": "24d968cb-abda-4011-8081-c2e73028221e",
      "palette": {
       "19cc588f-0593-49c9-9f4b-e4d7cc113b1c": {
        "id": "19cc588f-0593-49c9-9f4b-e4d7cc113b1c",
        "rgb": [
         252,
         252,
         252
        ]
       },
       "31af15d2-7e15-44c5-ab5e-e04b16a89eff": {
        "id": "31af15d2-7e15-44c5-ab5e-e04b16a89eff",
        "rgb": [
         68,
         68,
         68
        ]
       },
       "50f92c45-a630-455b-aec3-788680ec7410": {
        "id": "50f92c45-a630-455b-aec3-788680ec7410",
        "rgb": [
         155,
         177,
         192
        ]
       },
       "c5cc3653-2ee1-402a-aba2-7caae1da4f6c": {
        "id": "c5cc3653-2ee1-402a-aba2-7caae1da4f6c",
        "rgb": [
         43,
         126,
         184
        ]
       },
       "efa7f048-9acb-414c-8b04-a26811511a21": {
        "id": "efa7f048-9acb-414c-8b04-a26811511a21",
        "rgb": [
         25.118061674008803,
         73.60176211453744,
         107.4819383259912
        ]
       }
      },
      "rules": {
       "blockquote": {
        "color": "50f92c45-a630-455b-aec3-788680ec7410"
       },
       "code": {
        "font-family": "Anonymous Pro"
       },
       "h1": {
        "color": "c5cc3653-2ee1-402a-aba2-7caae1da4f6c",
        "font-family": "Lato",
        "font-size": 8
       },
       "h2": {
        "color": "c5cc3653-2ee1-402a-aba2-7caae1da4f6c",
        "font-family": "Lato",
        "font-size": 6
       },
       "h3": {
        "color": "50f92c45-a630-455b-aec3-788680ec7410",
        "font-family": "Lato",
        "font-size": 5.5
       },
       "h4": {
        "color": "c5cc3653-2ee1-402a-aba2-7caae1da4f6c",
        "font-family": "Lato",
        "font-size": 5
       },
       "h5": {
        "font-family": "Lato"
       },
       "h6": {
        "font-family": "Lato"
       },
       "h7": {
        "font-family": "Lato"
       },
       "pre": {
        "font-family": "Anonymous Pro",
        "font-size": 4
       }
      },
      "text-base": {
       "font-family": "Merriweather",
       "font-size": 4
      }
     },
     "d096c8f0-bbcc-46ac-b670-61c7d5e1533a": {
      "id": "d096c8f0-bbcc-46ac-b670-61c7d5e1533a",
      "palette": {
       "19cc588f-0593-49c9-9f4b-e4d7cc113b1c": {
        "id": "19cc588f-0593-49c9-9f4b-e4d7cc113b1c",
        "rgb": [
         252,
         252,
         252
        ]
       },
       "31af15d2-7e15-44c5-ab5e-e04b16a89eff": {
        "id": "31af15d2-7e15-44c5-ab5e-e04b16a89eff",
        "rgb": [
         68,
         68,
         68
        ]
       },
       "50f92c45-a630-455b-aec3-788680ec7410": {
        "id": "50f92c45-a630-455b-aec3-788680ec7410",
        "rgb": [
         155,
         177,
         192
        ]
       },
       "c5cc3653-2ee1-402a-aba2-7caae1da4f6c": {
        "id": "c5cc3653-2ee1-402a-aba2-7caae1da4f6c",
        "rgb": [
         43,
         126,
         184
        ]
       },
       "efa7f048-9acb-414c-8b04-a26811511a21": {
        "id": "efa7f048-9acb-414c-8b04-a26811511a21",
        "rgb": [
         25.118061674008803,
         73.60176211453744,
         107.4819383259912
        ]
       }
      },
      "rules": {
       "blockquote": {
        "color": "50f92c45-a630-455b-aec3-788680ec7410"
       },
       "code": {
        "font-family": "Anonymous Pro"
       },
       "h1": {
        "color": "c5cc3653-2ee1-402a-aba2-7caae1da4f6c",
        "font-family": "Lato",
        "font-size": 8
       },
       "h2": {
        "color": "c5cc3653-2ee1-402a-aba2-7caae1da4f6c",
        "font-family": "Lato",
        "font-size": 6
       },
       "h3": {
        "color": "50f92c45-a630-455b-aec3-788680ec7410",
        "font-family": "Lato",
        "font-size": 5.5
       },
       "h4": {
        "color": "c5cc3653-2ee1-402a-aba2-7caae1da4f6c",
        "font-family": "Lato",
        "font-size": 5
       },
       "h5": {
        "font-family": "Lato"
       },
       "h6": {
        "font-family": "Lato"
       },
       "h7": {
        "font-family": "Lato"
       },
       "pre": {
        "font-family": "Anonymous Pro",
        "font-size": 4
       }
      },
      "text-base": {
       "font-family": "Merriweather",
       "font-size": 4
      }
     }
    }
   }
  }
 },
 "nbformat": 4,
 "nbformat_minor": 1
}
